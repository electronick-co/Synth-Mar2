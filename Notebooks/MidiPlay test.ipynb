{
 "cells": [
  {
   "cell_type": "code",
   "execution_count": 1,
   "metadata": {},
   "outputs": [
    {
     "name": "stdout",
     "output_type": "stream",
     "text": [
      "Defaulting to user installation because normal site-packages is not writeable\n",
      "Requirement already satisfied: mido in c:\\users\\nick\\appdata\\local\\packages\\pythonsoftwarefoundation.python.3.12_qbz5n2kfra8p0\\localcache\\local-packages\\python312\\site-packages (1.3.2)\n",
      "Requirement already satisfied: python-rtmidi in c:\\users\\nick\\appdata\\local\\packages\\pythonsoftwarefoundation.python.3.12_qbz5n2kfra8p0\\localcache\\local-packages\\python312\\site-packages (1.5.8)\n",
      "Requirement already satisfied: packaging~=23.1 in c:\\users\\nick\\appdata\\local\\packages\\pythonsoftwarefoundation.python.3.12_qbz5n2kfra8p0\\localcache\\local-packages\\python312\\site-packages (from mido) (23.2)\n"
     ]
    }
   ],
   "source": [
    "!pip install mido python-rtmidi"
   ]
  },
  {
   "cell_type": "code",
   "execution_count": 1,
   "metadata": {},
   "outputs": [],
   "source": [
    "import mido\n",
    "import time"
   ]
  },
  {
   "cell_type": "code",
   "execution_count": 2,
   "metadata": {},
   "outputs": [
    {
     "name": "stdout",
     "output_type": "stream",
     "text": [
      "Output ports: ['Microsoft GS Wavetable Synth 0', 'Python2Reaper 1']\n",
      "Input ports: ['Python2Reaper 0']\n"
     ]
    }
   ],
   "source": [
    "print(\"Output ports:\", mido.get_output_names())\n",
    "print(\"Input ports:\", mido.get_input_names())"
   ]
  },
  {
   "cell_type": "code",
   "execution_count": 3,
   "metadata": {},
   "outputs": [],
   "source": [
    "# Define the MIDI port (you may need to adjust this)\n",
    "port_name = 'Python2Reaper 1'\n",
    "\n",
    "# Create a MIDI output\n",
    "outport = mido.open_output(port_name)"
   ]
  },
  {
   "cell_type": "code",
   "execution_count": 21,
   "metadata": {},
   "outputs": [],
   "source": [
    "# Define the arpeggio notes (C major triad: C4, E4, G4)\n",
    "notes = [60, 64, 67]\n",
    "\n",
    "# Define the duration of each note (in seconds)\n",
    "duration = 0.2\n",
    "\n",
    "def play_arpeggio():\n",
    "    for note in notes:\n",
    "        # Note On message\n",
    "        msg_on = mido.Message('note_on', note=note)\n",
    "        outport.send(msg_on)\n",
    "        \n",
    "        # Wait for the duration\n",
    "        time.sleep(duration)\n",
    "        \n",
    "        # Note Off message\n",
    "        msg_off = mido.Message('note_off', note=note)\n",
    "        outport.send(msg_off)"
   ]
  },
  {
   "cell_type": "code",
   "execution_count": 22,
   "metadata": {},
   "outputs": [],
   "source": [
    "# Play the arpeggio a few times\n",
    "for _ in range(4):\n",
    "    play_arpeggio()"
   ]
  },
  {
   "cell_type": "code",
   "execution_count": 25,
   "metadata": {},
   "outputs": [],
   "source": [
    "# Close the port\n",
    "outport.close()"
   ]
  }
 ],
 "metadata": {
  "kernelspec": {
   "display_name": "Python 3",
   "language": "python",
   "name": "python3"
  },
  "language_info": {
   "codemirror_mode": {
    "name": "ipython",
    "version": 3
   },
   "file_extension": ".py",
   "mimetype": "text/x-python",
   "name": "python",
   "nbconvert_exporter": "python",
   "pygments_lexer": "ipython3",
   "version": "3.12.6"
  }
 },
 "nbformat": 4,
 "nbformat_minor": 2
}
