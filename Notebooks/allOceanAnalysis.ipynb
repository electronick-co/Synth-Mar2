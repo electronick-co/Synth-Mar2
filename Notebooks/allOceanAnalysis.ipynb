{
 "cells": [
  {
   "cell_type": "markdown",
   "metadata": {},
   "source": [
    "# All ocean Analysis"
   ]
  },
  {
   "cell_type": "markdown",
   "metadata": {},
   "source": [
    "The objective is to run graphs to set the basic analisis of the oceans and get the ranges and things to input into the music generator\n"
   ]
  },
  {
   "cell_type": "markdown",
   "metadata": {},
   "source": [
    "# Base code"
   ]
  },
  {
   "cell_type": "markdown",
   "metadata": {},
   "source": [
    "## Init and functions"
   ]
  },
  {
   "cell_type": "code",
   "execution_count": 26,
   "metadata": {},
   "outputs": [],
   "source": [
    "import pandas as pd\n",
    "import numpy as np\n",
    "\n",
    "import matplotlib.pyplot as plt\n",
    "import geopandas as gpd\n",
    "from shapely.geometry import Point\n",
    "\n",
    "import folium\n",
    "import geopandas as gpd\n",
    "\n",
    "from ndbc_api import NdbcApi\n",
    "\n",
    "import plotly.io as pio\n",
    "import plotly.graph_objects as go\n",
    "\n",
    "pio.renderers.default = \"notebook_connected\"\n",
    "\n",
    "api = NdbcApi()"
   ]
  },
  {
   "cell_type": "code",
   "execution_count": 27,
   "metadata": {},
   "outputs": [],
   "source": [
    "def load_buoy_data(filename):\n",
    "    with pd.HDFStore(filename) as store:\n",
    "        availability_df = store['availability']\n",
    "        station_data = {}\n",
    "        for key in store.keys():\n",
    "            if key.startswith('/station_'):\n",
    "                station = key.split('_', 1)[1]\n",
    "                station_data[station] = store[key]\n",
    "    \n",
    "    return station_data, availability_df\n",
    "\n",
    "def filter_by_ocean(availability_df, cleaned_station_data, buoys_df, ocean_name):\n",
    "    \n",
    "    # Filter buoys_df to get stations from the specified ocean\n",
    "    ocean_stations = buoys_df[buoys_df['Ocean'] == ocean_name]['Station'].tolist()\n",
    "\n",
    "    # Filter availability_df\n",
    "    filtered_availability = availability_df.loc[availability_df.index.intersection(ocean_stations)]\n",
    "    \n",
    "    # Remove columns filled with zero\n",
    "    filtered_availability = filtered_availability.loc[:, (filtered_availability != 0).any(axis=0)]\n",
    "\n",
    "    # Filter cleaned_station_data\n",
    "    filtered_station_data = {station: data for station, data in cleaned_station_data.items() if station in ocean_stations}\n",
    "\n",
    "    return filtered_availability, filtered_station_data\n",
    "\n",
    "\n",
    "def create_buoy_ocean_map(buoy_df, geojson_path, output_path='buoy_ocean_map.html'):\n",
    "    \"\"\"\n",
    "    Create a Folium map with ocean polygons and buoy locations.\n",
    "    \n",
    "    Parameters:\n",
    "    buoy_df (pandas.DataFrame): DataFrame containing buoy information with columns 'Lat', 'Lon', 'Station', and 'Ocean'.\n",
    "    geojson_path (str): Path to the GeoJSON file containing ocean polygons.\n",
    "    output_path (str): Path to save the output HTML map file. Default is 'buoy_ocean_map.html'.\n",
    "    \n",
    "    Returns:\n",
    "    folium.Map: The created Folium map object.\n",
    "    \"\"\"\n",
    "    \n",
    "    # Create a Folium map centered around the average of the buoy coordinates\n",
    "    m = folium.Map(location=[buoy_df['Lat'].mean(), buoy_df['Lon'].mean()], zoom_start=2)\n",
    "\n",
    "    # Load the GeoJSON file\n",
    "    oceans_gdf = gpd.read_file(geojson_path)\n",
    "\n",
    "    # Add ocean polygons from GeoJSON\n",
    "    folium.GeoJson(\n",
    "        oceans_gdf.__geo_interface__,\n",
    "        style_function=lambda feature: {\n",
    "            'fillColor': 'lightblue',\n",
    "            'color': 'black',\n",
    "            'weight': 1,\n",
    "            'fillOpacity': 0.5,\n",
    "        }\n",
    "    ).add_to(m)\n",
    "\n",
    "    # Define a color mapping for each ocean\n",
    "    ocean_colors = {\n",
    "        'Atlantic Ocean': 'blue',\n",
    "        'Pacific Ocean America': 'green',\n",
    "        'Indian Ocean': 'red',\n",
    "        'Southern Ocean': 'purple',\n",
    "        'Pacific Ocean Asia': 'green'\n",
    "    }\n",
    "\n",
    "    # Add buoy locations to the map\n",
    "    for idx, row in buoy_df.iterrows():\n",
    "        # Get the color for the current ocean, default to orange if not found\n",
    "        icon_color = ocean_colors.get(row['Ocean'], 'orange')\n",
    "        \n",
    "        folium.Marker(\n",
    "            location=(row['Lat'], row['Lon']),\n",
    "            popup=f'Buoy {row[\"Station\"]}\\n ({row[\"Lat\"]}, {row[\"Lon\"]})\\n{row[\"Ocean\"]}',\n",
    "            icon=folium.Icon(color=icon_color)\n",
    "        ).add_to(m)\n",
    "\n",
    "    # Save the map to an HTML file\n",
    "    m.save(output_path)\n",
    "\n",
    "    return m\n",
    "\n",
    "\n",
    "def plot_availability_heatmap(availability):\n",
    "    # Remove columns (variables) with no data\n",
    "    availability = availability.loc[:, (availability != 0).any(axis=0)]\n",
    "    # Create the heatmap\n",
    "    fig = go.Figure(data=go.Heatmap(\n",
    "        z=availability.values,\n",
    "        x=availability.columns,\n",
    "        y=availability.index,\n",
    "        colorscale='YlGnBu',\n",
    "        colorbar=dict(title='Data Available')\n",
    "    ))\n",
    "    \n",
    "    # Update layout\n",
    "    fig.update_layout(\n",
    "        title='Data Availability by Station and Variable',\n",
    "        xaxis_title='Variable',\n",
    "        yaxis_title='Station',\n",
    "        height=600,\n",
    "        width=1000\n",
    "    )\n",
    "    \n",
    "    # Show the plot\n",
    "    fig.show()\n",
    "\n",
    "\n",
    "\n",
    "def ocean_variable_plot(ocean_station_data, ocean_availability):\n",
    "    # Get all variables from the availability dataframe\n",
    "    variables = ocean_availability.columns.tolist()\n",
    "    \n",
    "    # Color palette for different stations\n",
    "    colors = ['#1f77b4', '#ff7f0e', '#2ca02c', '#d62728', '#9467bd', \n",
    "              '#8c564b', '#e377c2', '#7f7f7f', '#bcbd22', '#17becf']\n",
    "\n",
    "    for variable in variables:\n",
    "        fig = go.Figure()\n",
    "\n",
    "        for j, (station, data) in enumerate(ocean_station_data.items()):\n",
    "            if variable in data.columns and ocean_availability.loc[station, variable] == 1:\n",
    "                trace = go.Scatter(\n",
    "                    x=data.index,\n",
    "                    y=data[variable],\n",
    "                    mode='lines',\n",
    "                    name=f'{station}',\n",
    "                    line=dict(color=colors[j % len(colors)]),\n",
    "                )\n",
    "                fig.add_trace(trace)\n",
    "        \n",
    "        # Update layout\n",
    "        fig.update_layout(\n",
    "            height=600,\n",
    "            title_text=f\"{variable} Data from Ocean Buoys\",\n",
    "            xaxis_title=\"Date\",\n",
    "            yaxis_title=variable,\n",
    "            legend_title_text=\"Stations\",\n",
    "        )\n",
    "\n",
    "        # Show the plot\n",
    "        fig.show()"
   ]
  },
  {
   "cell_type": "code",
   "execution_count": 3,
   "metadata": {},
   "outputs": [],
   "source": [
    "# Read the general information of all Buoys\n",
    "buoy_df = pd.read_csv('buoys_with_ocean.csv')\n",
    "\n",
    "# Load the data from buoys\n",
    "station_data, availability_df = load_buoy_data('buoy_data_20240601_to_20240916.h5')\n"
   ]
  },
  {
   "cell_type": "markdown",
   "metadata": {},
   "source": [
    "## Display buoys in the map"
   ]
  },
  {
   "cell_type": "code",
   "execution_count": null,
   "metadata": {},
   "outputs": [],
   "source": [
    "# Show buoys in the map\n",
    "\n",
    "m = create_buoy_ocean_map(buoy_df, '5oceansByNick.geojson')\n",
    "m  # Display the map\n"
   ]
  },
  {
   "cell_type": "markdown",
   "metadata": {},
   "source": [
    "## Indian Ocean"
   ]
  },
  {
   "cell_type": "code",
   "execution_count": 21,
   "metadata": {},
   "outputs": [],
   "source": [
    "\n",
    "# Filter to only this Ocean\n",
    "indian_ocean_availability, indian_ocean_station_data = filter_by_ocean(availability_df, station_data, buoy_df, \"Indian Ocean\")\n"
   ]
  },
  {
   "cell_type": "code",
   "execution_count": null,
   "metadata": {},
   "outputs": [],
   "source": [
    "plot_availability_heatmap(indian_ocean_availability)"
   ]
  },
  {
   "cell_type": "code",
   "execution_count": null,
   "metadata": {},
   "outputs": [],
   "source": [
    "\n",
    "\n",
    "#  Plot the variables:\n",
    "ocean_variable_plot(indian_ocean_station_data, indian_ocean_availability)\n"
   ]
  },
  {
   "cell_type": "markdown",
   "metadata": {},
   "source": [
    "# Atlantic Ocean"
   ]
  },
  {
   "cell_type": "code",
   "execution_count": null,
   "metadata": {},
   "outputs": [],
   "source": [
    "\n",
    "# Filter to only this Ocean\n",
    "atlantic_ocean_availability, atlantic_ocean_station_data = filter_by_ocean(availability_df, station_data, buoy_df, \"Atlantic Ocean\")\n",
    "plot_availability_heatmap(atlantic_ocean_availability)\n",
    "#  Plot the variables:\n",
    "ocean_variable_plot(atlantic_ocean_station_data, atlantic_ocean_availability)\n",
    "\n"
   ]
  },
  {
   "cell_type": "markdown",
   "metadata": {},
   "source": [
    "## Pacific Ocean Asia"
   ]
  },
  {
   "cell_type": "code",
   "execution_count": null,
   "metadata": {},
   "outputs": [],
   "source": [
    "# Filter to only this Ocean\n",
    "pacific_asian_ocean_availability, pacific_asian_ocean_station_data = filter_by_ocean(availability_df, station_data, buoy_df, \"Pacific Ocean Asia\")\n",
    "plot_availability_heatmap(pacific_asian_ocean_availability)\n",
    "#  Plot the variables:\n",
    "ocean_variable_plot(pacific_asian_ocean_station_data, pacific_asian_ocean_availability)"
   ]
  },
  {
   "cell_type": "markdown",
   "metadata": {},
   "source": [
    "# Pacific Ocean America"
   ]
  },
  {
   "cell_type": "code",
   "execution_count": null,
   "metadata": {},
   "outputs": [],
   "source": [
    "# Filter to only this Ocean\n",
    "pacific_american_ocean_availability, pacific_american_ocean_station_data = filter_by_ocean(availability_df, station_data, buoy_df, \"Pacific Ocean America\")\n",
    "plot_availability_heatmap(pacific_american_ocean_availability)\n",
    "#  Plot the variables:\n",
    "ocean_variable_plot(pacific_american_ocean_station_data, pacific_american_ocean_availability)"
   ]
  }
 ],
 "metadata": {
  "kernelspec": {
   "display_name": "Python 3",
   "language": "python",
   "name": "python3"
  },
  "language_info": {
   "codemirror_mode": {
    "name": "ipython",
    "version": 3
   },
   "file_extension": ".py",
   "mimetype": "text/x-python",
   "name": "python",
   "nbconvert_exporter": "python",
   "pygments_lexer": "ipython3",
   "version": "3.12.6"
  }
 },
 "nbformat": 4,
 "nbformat_minor": 2
}
